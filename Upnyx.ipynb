{
 "cells": [
  {
   "cell_type": "code",
   "execution_count": 5,
   "id": "04cf1d37-517b-4531-8cde-5961521a3ffc",
   "metadata": {},
   "outputs": [],
   "source": [
    "import wikipedia\n",
    "import wikipediaapi\n",
    "from groq import Groq"
   ]
  },
  {
   "cell_type": "code",
   "execution_count": 6,
   "id": "0b083dcb-9c02-41a8-927a-08a7cd87fa04",
   "metadata": {},
   "outputs": [],
   "source": [
    "API_KEY = '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'"
   ]
  },
  {
   "cell_type": "code",
   "execution_count": 9,
   "id": "9956baf5-97c1-4560-8c03-de033db43464",
   "metadata": {},
   "outputs": [],
   "source": [
    "def get_topic(topic):\n",
    "    result = wikipedia.search(topic, results = 1)\n",
    "    return result[0]\n",
    "\n",
    "def get_wiki(topic):\n",
    "    wiki_wiki = wikipediaapi.Wikipedia(user_agent = 'Upnyx (priyanshupilaniwala@gmail.com)', language = 'en')\n",
    "    page_py = wiki_wiki.page(topic)\n",
    "    \n",
    "    return page_py.summary\n",
    "    \n",
    "def get_blog(topic):\n",
    "    article = get_wiki(get_topic(topic))\n",
    "    client = Groq(\n",
    "        api_key='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',\n",
    "    )\n",
    "    chat_completion = client.chat.completions.create(\n",
    "        messages=[{\n",
    "            \"role\": \"user\",\n",
    "            \"content\":f'''generate a blog that should have 4 sections\n",
    "                    1. Heading: Clearly define the topic of the blog.\n",
    "                \t2. Introduction: Provide an engaging introduction to the topic.\n",
    "                \t3. Content: Present detailed and informative content, supported by research and relevant sources.\n",
    "                \t4. Summary\n",
    "             based on the given reseearch: {article}''',\n",
    "        }\n",
    "    ],\n",
    "    model=\"llama-3.1-70b-versatile\"\n",
    "    )\n",
    "    return chat_completion.choices[0].message.content"
   ]
  },
  {
   "cell_type": "code",
   "execution_count": 10,
   "id": "c7e2bdcc-4e4b-42b4-8f29-92d5d8ca7836",
   "metadata": {},
   "outputs": [
    {
     "name": "stdout",
     "output_type": "stream",
     "text": [
      "**Blog Title: Unveiling the Essence of India: A Nation of Diversity and Resilience**\n",
      "\n",
      "**Introduction:**\n",
      "\n",
      "Located in the heart of South Asia, India stands as a testament to diversity and resilience. With a rich history spanning over 55,000 years, this beautiful nation has been shaped by various cultures, traditions, and influences, making it a fascinating land of contrasts. From the snow-capped Himalayas to the sun-kissed beaches of the Indian Ocean, India's geographical diversity is as mesmerizing as its people. In this blog, we will embark on a journey to unravel the essence of India, exploring its history, culture, and the incredible journey it has undertaken to become the world's most populous democracy.\n",
      "\n",
      "**Content:**\n",
      "\n",
      "India's journey began with the arrival of modern humans from Africa over 55,000 years ago. Over time, various civilizations emerged, including the Indus Valley Civilization, which laid the foundation for the development of one of the oldest and most influential languages, Sanskrit. The Indo-European language diffused into India, eventually giving birth to the Rigveda, one of the most revered Hindu scriptures. As the country progressed, various empires rose and fell, each leaving behind a rich legacy of art, architecture, and culture.\n",
      "\n",
      "One of the most significant periods in Indian history was the era of the Maurya and Gupta Empires, which saw an unprecedented explosion of creativity, scientific discovery, and economic growth. The subcontinent also witnessed the rise of Buddhism and Jainism, two influential philosophies that shaped the country's social and cultural landscape.\n",
      "\n",
      "The arrival of Islam in the 7th century CE marked a new era of cultural and economic exchanges, as Indian artisans, traders, and philosophers interacted with Muslim scholars and merchants from Central Asia. The resulting Islamic-Hindu synthesis gave birth to a unique architectural style, evident in monuments such as the Taj Mahal.\n",
      "\n",
      "India's modern era began with the colonial rule of the British East India Company, which led to the birth of a national movement for independence. Mahatma Gandhi's non-violent resistance eventually led to India's independence in 1947. Since then, India has made tremendous strides in technology, education, and economic growth, transforming itself from a relatively destitute nation to a global power.\n",
      "\n",
      "**Statistics that tell a story:**\n",
      "\n",
      "* India's literacy rate increased from 16.6% in 1951 to 74% in 2022.\n",
      "* The country's nominal per capita income rose from US$64 in 1951 to US$2,601 in 2022.\n",
      "* India has substantially reduced its poverty rate, though economic inequality remains a concern.\n",
      "* The country has become a major hub for IT services, with an expanding middle class.\n",
      "* India's space program has successfully launched several extraterrestrial missions.\n",
      "\n",
      "**Challenges and Opportunities:**\n",
      "\n",
      "While India has made significant progress in various areas, it still faces numerous socio-economic challenges. Gender inequality, child malnutrition, and rising air pollution are among the pressing concerns that need to be addressed. However, India's resilience and determination have also led to remarkable achievements in scientific research, technological innovation, and sustainable development.\n",
      "\n",
      "**Summary:**\n",
      "\n",
      "India is a nation of contrasts, where tradition and modernity blend seamlessly together. From its ancient history to its modern-day success stories, this country has consistently proven its ability to adapt and evolve. Despite the challenges it faces, India remains a beacon of hope for millions, offering a unique blend of culture, language, and traditions that continue to inspire and fascinate the world. As India continues to grow and thrive, its essential identity remains unchanged – a vibrant, diverse, and resilient nation that embodies the very spirit of human civilization.\n"
     ]
    }
   ],
   "source": [
    "print(get_blog('India'))"
   ]
  },
  {
   "cell_type": "code",
   "execution_count": 11,
   "id": "a4d220be-861a-4d60-ae13-59b569cdeb3c",
   "metadata": {},
   "outputs": [
    {
     "name": "stdout",
     "output_type": "stream",
     "text": [
      "**The Power and Versatility of Python: A Comprehensive Overview**\n",
      "\n",
      "**Heading**\n",
      "The topic of this blog is \"Python\", a term that encompasses a wide range of meanings and applications. From a programming language to a reference to a large snake, Python is a multifaceted concept that has gained significant attention in recent years. In this blog, we will delve into the world of Python, exploring its various definitions, uses, and benefits.\n",
      "\n",
      "**Introduction**\n",
      "Python, as a programming language, has become an essential tool in the digital world. Developed in the late 1980s by Guido van Rossum, Python has evolved into one of the most popular and versatile programming languages used today. But Python is more than just a programming language; it also refers to a large, non-venomous snake found in Africa, Asia, and Australia. Furthermore, the term \"Python\" has also been used in other contexts, such as in reference to a British comedy group and a brand of motorcycle. In this blog, we will explore the various meanings and applications of Python, highlighting its significance and impact on modern society.\n",
      "\n",
      "**Content**\n",
      "Python, as a programming language, has gained widespread acceptance due to its simplicity, flexibility, and versatility. According to the TIOBE Index, a programming language popularity index, Python has become the second most popular programming language in the world, surpassed only by JavaScript (TIOBE, 2022). Python's simplicity and ease of use make it an ideal language for beginners, while its advanced features and extensive libraries make it a popular choice among experienced developers. Additionally, Python is widely used in various fields, such as data science, machine learning, web development, and scientific computing.\n",
      "\n",
      "But Python is not just a programming language; it also refers to a type of snake. The Pythonidae family of snakes includes over 30 species, including the Burmese python, the Indian python, and the African rock python (Reptile Database, 2022). These snakes are known for their massive size, docile nature, and constricting abilities. Unfortunately, many python species are threatened by habitat loss, hunting, and the exotic pet trade.\n",
      "\n",
      "In popular culture, the term \"Python\" has also been used to refer to the British comedy group Monty Python, known for their hilarious sketches and surreal humor. The group, which consisted of Graham Chapman, John Cleese, Terry Gilliam, Eric Idle, Terry Jones, and Michael Palin, has become a beloved cultural icon, influencing comedy and satire around the world.\n",
      "\n",
      "**Summary**\n",
      "In conclusion, Python is a multifaceted term that encompasses various meanings and applications. As a programming language, Python has become a powerful and versatile tool in the digital world. As a type of snake, Python is a fascinating and majestic creature that deserves our respect and conservation efforts. And as a cultural reference, Python continues to inspire and entertain us through comedy and satire. Whether you are a programmer, a reptile enthusiast, or a comedy fan, Python is a term that is sure to delight and inspire you.\n"
     ]
    }
   ],
   "source": [
    "print(get_blog('Python'))"
   ]
  },
  {
   "cell_type": "code",
   "execution_count": null,
   "id": "6eacbc38-b668-4d3b-866f-c43ab59e78b2",
   "metadata": {},
   "outputs": [],
   "source": []
  }
 ],
 "metadata": {
  "kernelspec": {
   "display_name": "Python 3 (ipykernel)",
   "language": "python",
   "name": "python3"
  },
  "language_info": {
   "codemirror_mode": {
    "name": "ipython",
    "version": 3
   },
   "file_extension": ".py",
   "mimetype": "text/x-python",
   "name": "python",
   "nbconvert_exporter": "python",
   "pygments_lexer": "ipython3",
   "version": "3.11.7"
  }
 },
 "nbformat": 4,
 "nbformat_minor": 5
}
