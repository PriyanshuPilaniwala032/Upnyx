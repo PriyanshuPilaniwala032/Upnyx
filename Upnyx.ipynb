{
 "cells": [
  {
   "cell_type": "code",
   "execution_count": 20,
   "id": "04cf1d37-517b-4531-8cde-5961521a3ffc",
   "metadata": {},
   "outputs": [],
   "source": [
    "import wikipedia\n",
    "import wikipediaapi\n",
    "from groq import Groq"
   ]
  },
  {
   "cell_type": "code",
   "execution_count": 9,
   "id": "9956baf5-97c1-4560-8c03-de033db43464",
   "metadata": {},
   "outputs": [],
   "source": [
    "def get_topic(topic):\n",
    "    result = wikipedia.search(topic, results = 1)\n",
    "    return result[0]\n",
    "\n",
    "def get_wiki(topic):\n",
    "    wiki_wiki = wikipediaapi.Wikipedia(user_agent = 'Project Name (example@gmail.com)', language = 'en')\n",
    "    page_py = wiki_wiki.page(topic)\n",
    "    \n",
    "    return page_py.summary\n",
    "    \n",
    "def get_blog(topic):\n",
    "    article = get_wiki(get_topic(topic))\n",
    "    client = Groq(\n",
    "        api_key='GROQ_API_KEY',\n",
    "    )\n",
    "    chat_completion = client.chat.completions.create(\n",
    "        messages=[{\n",
    "            \"role\": \"user\",\n",
    "            \"content\":f'''generate a blog that should have 4 sections\n",
    "                    1. Heading: Clearly define the topic of the blog.\n",
    "                \t2. Introduction: Provide an engaging introduction to the topic.\n",
    "                \t3. Content: Present detailed and informative content, supported by research and relevant sources.\n",
    "                \t4. Summary\n",
    "             based on the given reseearch: {article}''',\n",
    "        }\n",
    "    ],\n",
    "    model=\"llama-3.1-70b-versatile\"\n",
    "    )\n",
    "    return chat_completion.choices[0].message.content"
   ]
  },
  {
   "cell_type": "code",
   "execution_count": 12,
   "id": "4984fcab-50ea-4ddb-b4ff-1f18386bb21a",
   "metadata": {},
   "outputs": [],
   "source": [
    "topic = 'India'"
   ]
  },
  {
   "cell_type": "code",
   "execution_count": 13,
   "id": "c7e2bdcc-4e4b-42b4-8f29-92d5d8ca7836",
   "metadata": {},
   "outputs": [
    {
     "name": "stdout",
     "output_type": "stream",
     "text": [
      "**Section 1: Heading**\n",
      "**\"Unveiling the Rich History and Diversity of India: A Cultural and Economic Journey\"**\n",
      "\n",
      "**Section 2: Introduction**\n",
      "India, officially known as the Republic of India, is a country in South Asia that boasts a rich and diverse history, culture, and economy. With a land area of over 3.28 million square kilometers, India is the seventh-largest country in the world and the most populous, with a staggering population of over 1.4 billion people. From the majestic Himalayas in the north to the sun-kissed beaches of the southern coast, India is a land of contrasts, with a history that dates back thousands of years. In this blog, we will embark on a fascinating journey to uncover the treasures of India's past, its cultural and linguistic diversity, and its remarkable economic growth.\n",
      "\n",
      "**Section 3: Content**\n",
      "India's history is a tapestry of cultures, empires, and civilizations that have shaped the country's development over thousands of years. The Indian subcontinent has been inhabited by humans for over 55,000 years, with the earliest evidence of settled life dating back to the Indus Valley Civilization around 9,000 years ago. The country's strategic location has made it a hub for trade, cultural exchange, and the spread of ideas, with the Indian Ocean, Arabian Sea, and Bay of Bengal forming its maritime borders.\n",
      "\n",
      "The country's rich cultural heritage is evident in its diverse languages, with Sanskrit, an Indo-European language, being one of the earliest recorded languages in India. The Rigveda, an ancient Hindu scripture, is a testament to the oral traditions of the region. India's cultural diversity is further reflected in the many languages spoken across the country, including Tamil, Telugu, and Kannada in the southern states.\n",
      "\n",
      "India's economic growth has been remarkable, with the country transforming from a impoverished nation in the mid-20th century to a major economic power today. The introduction of modern technologies, education, and industrialization have contributed significantly to the country's growth. India's IT sector has become a significant contributor to the country's GDP, with the country becoming a global hub for IT services.\n",
      "\n",
      "However, despite the country's economic growth, India still faces significant challenges, including poverty, gender inequality, and environmental degradation. The country's biodiversity is under threat due to habitat destruction, climate change, and pollution.\n",
      "\n",
      "**Section 4: Summary**\n",
      "In conclusion, India is a country of incredible diversity, rich history, and remarkable economic growth. From the majestic Himalayas to the vibrant streets of Mumbai, India is a land of contrasts that has something to offer everyone. While the country still faces significant challenges, its resilience and determination have enabled it to overcome many obstacles, making it a beacon of hope for the world. As we continue to explore India's rich history, cultural diversity, and economic growth, we are reminded of the country's enduring spirit and its position as a major player on the global stage.\n"
     ]
    }
   ],
   "source": [
    "print(get_blog(topic))"
   ]
  },
  {
   "cell_type": "code",
   "execution_count": 14,
   "id": "e5b5210c-a5f8-4c20-a816-3531389e9508",
   "metadata": {},
   "outputs": [],
   "source": [
    "topic = 'Python'"
   ]
  },
  {
   "cell_type": "code",
   "execution_count": 15,
   "id": "a4d220be-861a-4d60-ae13-59b569cdeb3c",
   "metadata": {},
   "outputs": [
    {
     "name": "stdout",
     "output_type": "stream",
     "text": [
      "**Heading:**\n",
      "Unleashing the Power of Python: An In-Depth Exploration of its Various Meanings and Applications\n",
      "\n",
      "**Introduction:**\n",
      "Python is a term that has gained significant attention in recent years, and for good reason. With the ever-growing demand for coding skills and technological advancements, Python has become a buzzword in the industry. But what exactly does Python refer to? Is it just a programming language, or is there more to it? In this blog, we'll delve into the various meanings and applications of Python, exploring its intricacies and highlighting its uses.\n",
      "\n",
      "**Content:**\n",
      "Python, in its most common sense, refers to the high-level, interpreted programming language known as Python programming language, or simply, Python. Created in the late 1980s by Guido van Rossum, Python has evolved into one of the most popular and widely-used languages in the world. Its simplicity, flexibility, and extensive libraries make it a favorite among developers, researchers, and students alike. However, Python is not just a programming language; it can also refer to other things.\n",
      "\n",
      "1. **Python (genus):** Python is also the name of a genus of non-venomous snakes found in Africa, Asia, and Australia. The genus includes over 30 species of snakes, including the Burmese Python, African Rock Python, and Indian Python.\n",
      "2. **Monty Python:** Monty Python is a popular British comedy group that was formed in the late 1960s. The group, consisting of Eric Idle, Terry Gilliam, Terry Jones, Michael Palin, and John Cleese, created numerous iconic films, TV shows, and musicals that have become a staple of British comedy.\n",
      "3. **Python (US slang):** In some parts of the United States, particularly in the Southern states, Python is used as a colloquial term for a whiskey jug or a moonshine bottle.\n",
      "4. **Python (mythology):** In Greek mythology, Python was a serpent-like creature that was said to have been raised by the god Apollo. The creature was believed to be the guardian of the Delphic Oracle, and was feared by the people for its immense size and strength.\n",
      "\n",
      "In addition to these meanings, Python has numerous applications across various industries. Its simplicity and flexibility have made it an ideal language for:\n",
      "\n",
      "1. **Web development:** Python is widely used for web development, particularly with frameworks like Django and Flask. Its vast array of libraries and tools make it an excellent choice for building scalable and efficient web applications.\n",
      "2. **Data analysis and science:** Python's extensive libraries, including NumPy, pandas, and Matplotlib, have made it a leading choice for data analysis and science. Its simplicity and flexibility make it an excellent language for data visualization and machine learning.\n",
      "3. **Artificial intelligence and robotics:** Python is widely used in artificial intelligence and robotics, particularly with libraries like TensorFlow and PyTorch. Its simplicity and flexibility make it an excellent language for building AI and robotics applications.\n",
      "\n",
      "**Summary:**\n",
      "Python is a multifaceted term that refers to various things, from a programming language to a genus of snakes, a comedy group, and even a term for a whiskey jug. However, its core meaning and significance lie in its applications across various industries, particularly in web development, data analysis and science, and artificial intelligence and robotics. As we continue to venture into the vast world of technology and coding, it's essential to explore the intricacies of Python and its numerous applications, shedding light on its significance and power.\n"
     ]
    }
   ],
   "source": [
    "print(get_blog(topic))"
   ]
  },
  {
   "cell_type": "code",
   "execution_count": 16,
   "id": "6eacbc38-b668-4d3b-866f-c43ab59e78b2",
   "metadata": {},
   "outputs": [],
   "source": [
    "topic = 'AI'"
   ]
  },
  {
   "cell_type": "code",
   "execution_count": 17,
   "id": "a7ee7082-2991-4866-8062-d973e71bb72a",
   "metadata": {},
   "outputs": [
    {
     "name": "stdout",
     "output_type": "stream",
     "text": [
      "**The Evolution and Impact of Artificial Intelligence: A Comprehensive Overview**\n",
      "\n",
      "**Introduction:**\n",
      "Artificial intelligence (AI), a field of research in computer science, has revolutionized the way we live, work, and interact with technology. From advanced web search engines to recommendation systems and autonomous vehicles, AI has become an integral part of our daily lives. Despite its widespread use, AI remains shrouded in mystery, with many applications going unnoticed as AI. In this blog, we'll delve into the world of AI, exploring its definition, subfields, research goals, and the impact it has on society.\n",
      "\n",
      "**Content:**\n",
      "Artificial intelligence, in its broadest sense, refers to intelligence exhibited by machines, particularly computer systems. It involves the development and study of methods and software that enable machines to perceive their environment, learn, and take actions to achieve defined goals. The AI research community has made significant strides in achieving this goal, with applications in web search engines, recommendation systems, speech recognition, and autonomous vehicles.\n",
      "\n",
      "The various subfields of AI research are centered around particular goals and the use of specific tools. Traditional AI research goals include reasoning, knowledge representation, planning, learning, natural language processing, perception, and support for robotics. General intelligence, the ability to complete any task performable by a human on an equal or higher level, is among the field's long-term goals. To achieve these goals, researchers have integrated techniques from search and mathematical optimization, formal logic, artificial neural networks, and methods based on statistics, operations research, and economics.\n",
      "\n",
      "The history of AI is marked by cycles of optimism, followed by periods of disappointment and funding cuts, known as AI winter. However, the introduction of deep learning in 2012 marked a turning point in the field, with AI research receiving significant funding and interest. The transformer architecture, introduced in 2017, further accelerated AI research, leading to the AI boom of the early 2020s.\n",
      "\n",
      "As AI becomes increasingly pervasive, concerns about its risks and long-term effects have risen. The widespread use of AI in the 21st century has exposed several unintended consequences and harms, prompting discussions about regulatory policies to ensure the safety and benefits of the technology. A report by McKinsey estimates that AI could add up to 16% to global economic output by 2030, but also highlights the need for responsible AI development and deployment.\n",
      "\n",
      "**Some of the key subfields of AI research include:**\n",
      "\n",
      "* **Natural Language Processing (NLP):** NLP is a subfield of AI that deals with the interaction between computers and human language. It involves the development of algorithms and statistical models that enable computers to process, understand, and generate natural language data.\n",
      "* **Machine Learning (ML):** ML is a subfield of AI that involves the development of algorithms and statistical models that enable computers to learn from data, without being explicitly programmed.\n",
      "* **Computer Vision:** Computer vision is a subfield of AI that deals with the development of algorithms and statistical models that enable computers to interpret and understand visual data from images and videos.\n",
      "* **Robotics:** Robotics is a subfield of AI that involves the development of algorithms and statistical models that enable computers to control and interact with physical robots.\n",
      "\n",
      "**Summary:**\n",
      "Artificial intelligence has come a long way since its inception in the 1950s. From its early days as a niche research field to its current status as a pervasive technology, AI has revolutionized the way we live, work, and interact with technology. While AI has the potential to add significant value to our economy and society, it also raises concerns about its risks and long-term effects. As we move forward in this AI-driven world, it's essential that we prioritize responsible AI development and deployment, ensuring that the benefits of AI are shared by all.\n"
     ]
    }
   ],
   "source": [
    "print(get_blog(topic))"
   ]
  },
  {
   "cell_type": "code",
   "execution_count": null,
   "id": "05047a74-e6ef-45ba-9ecb-86df15146b70",
   "metadata": {},
   "outputs": [],
   "source": []
  }
 ],
 "metadata": {
  "kernelspec": {
   "display_name": "Python 3 (ipykernel)",
   "language": "python",
   "name": "python3"
  },
  "language_info": {
   "codemirror_mode": {
    "name": "ipython",
    "version": 3
   },
   "file_extension": ".py",
   "mimetype": "text/x-python",
   "name": "python",
   "nbconvert_exporter": "python",
   "pygments_lexer": "ipython3",
   "version": "3.11.7"
  }
 },
 "nbformat": 4,
 "nbformat_minor": 5
}
